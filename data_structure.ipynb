{
  "nbformat": 4,
  "nbformat_minor": 0,
  "metadata": {
    "colab": {
      "private_outputs": true,
      "provenance": []
    },
    "kernelspec": {
      "name": "python3",
      "display_name": "Python 3"
    },
    "language_info": {
      "name": "python"
    }
  },
  "cells": [
    {
      "cell_type": "markdown",
      "source": [
        "**Data Types theoretical questions**\n",
        "\n",
        "\n"
      ],
      "metadata": {
        "id": "t1nAzQM5YZlz"
      }
    },
    {
      "cell_type": "markdown",
      "source": [
        "1.What are data structures, and why are they important\n",
        "- data structure is organization and storing data in order to manipulate and access it"
      ],
      "metadata": {
        "id": "cy66BgwEYZxr"
      }
    },
    {
      "cell_type": "markdown",
      "source": [
        "2.Explain the difference between mutable and immutable data types with examples\n",
        "- mutability means we can change the object info in data type ex list,dict\n",
        "immutable we can not modify the obj info after once it created ex tuple,string"
      ],
      "metadata": {
        "id": "bvVx3UL3YZ_5"
      }
    },
    {
      "cell_type": "markdown",
      "source": [
        "3. What are the main differences between lists and tuples in Python\n",
        "\n",
        " ->list\n",
        "\n",
        "\n",
        "*  it is mutable\n",
        "*  we can modify its value after onces it is created\n",
        "\n",
        "*   it declared with help of square bracket([])\n",
        "\n",
        "\n",
        "*   slower, required more memory used function like append,remove\n",
        "*   List item\n",
        "\n",
        "\n",
        "\n",
        " ->tuple\n",
        "\n",
        "\n",
        "*   it is immutable\n",
        "\n",
        "*  we can not modify after once it is created\n",
        "*   it is declared with the help of circular bracket(())\n",
        "*   faster due to immutable,used function like count,index\n",
        "\n",
        "\n",
        "\n",
        "\n",
        "\n",
        "\n",
        "\n",
        "\n",
        "\n",
        "\n"
      ],
      "metadata": {
        "id": "DZ79ynsqXdci"
      }
    },
    {
      "cell_type": "markdown",
      "source": [
        "4.Describe how dictionaries store data\n",
        "\n",
        "->dictionary is store the date by key value we can access date by the help of keys,each object is declared using the unique key and it associates value,dict is way faster than list,tuple,dict are unoredered ex\n",
        "dict_1=[\"name\":\"harshad\",\"age\":20]"
      ],
      "metadata": {
        "id": "cI0kShGMXdgF"
      }
    },
    {
      "cell_type": "markdown",
      "source": [
        "5.Why might you use a set instead of a list in Python\n",
        "\n",
        "-> because some times we don't want an repetition of element we want unique from them so that why we might prefer set on list,it is faster in order to search an element it used union,intersection operations"
      ],
      "metadata": {
        "id": "_7TAT49psTLT"
      }
    },
    {
      "cell_type": "markdown",
      "source": [
        "6. What is a string in Python, and how is it different from a list\n",
        "\n",
        "-> the string store sequence of character while the list store any data type, the string is immutable but list is mutable,modification can not happened in exciting string ,here modification can happen ,more efficient list is slightly less efficient"
      ],
      "metadata": {
        "id": "9hyk77zmczjY"
      }
    },
    {
      "cell_type": "markdown",
      "source": [
        "7.How do tuples ensure data integrity in Python\n",
        "\n",
        "-> through immutability,we can not change the object value onces it is created\n",
        "this make sure the data remain same throughout the program"
      ],
      "metadata": {
        "id": "GvFeVBird2-L"
      }
    },
    {
      "cell_type": "markdown",
      "source": [
        "8.What is a hash table, and how does it relate to dictionaries in Python\n",
        "\n",
        "->A hash table is a data structure that maps keys to values using a hash function for fast access Keys are hashed to find their index Values are stored at that index\n",
        "\n"
      ],
      "metadata": {
        "id": "c4CKct1yexFR"
      }
    },
    {
      "cell_type": "markdown",
      "source": [
        "9.Can lists contain different data types in Python\n",
        "\n",
        "->yes,list contain different data type ex string,lnt,float,bool,we can access it through indexing it is used to store heterogeneous data\n"
      ],
      "metadata": {
        "id": "rAmRwAWkfYor"
      }
    },
    {
      "cell_type": "markdown",
      "source": [
        "\n",
        "\n",
        "---\n",
        "\n"
      ],
      "metadata": {
        "id": "m0EF-MHUfz0v"
      }
    },
    {
      "cell_type": "markdown",
      "source": [
        "10.Explain why strings are immutable in Python\n",
        "\n",
        "->strings are immutable in Python to ensure memory efficiency, safety, and consistent behavior when used as keys or shared across code."
      ],
      "metadata": {
        "id": "eE2l7Y_pfYmT"
      }
    },
    {
      "cell_type": "markdown",
      "source": [
        "11.What advantages do dictionaries offer over lists for certain tasks\n",
        "\n",
        "->we can access element value by the help of keys,we do not remember the index we can easily add, update, or remove items without worrying about keeping order or shifting positions like in lists."
      ],
      "metadata": {
        "id": "H689rYg_fYho"
      }
    },
    {
      "cell_type": "markdown",
      "source": [
        "12.Describe a scenario where using a tuple would be preferable over a list\n",
        "\n",
        "->tuple are immutable when we want to store a data once it declare nobody can change it then we go for tuple it used in data security we might want to use it as a key in a dictionary to map coordinates to places."
      ],
      "metadata": {
        "id": "x5O0j1CcfYQg"
      }
    },
    {
      "cell_type": "markdown",
      "source": [
        "13.How do sets handle duplicate values in Python\n",
        "\n",
        "-> set remove duplicate element automatically,That’s because a set is designed to hold only unique elements.\n"
      ],
      "metadata": {
        "id": "aCsEspORh6ZN"
      }
    },
    {
      "cell_type": "markdown",
      "source": [
        "14.How does the “in” keyword work differently for lists and dictionaries\n",
        "\n",
        "->it check in list the value is present or not in lareger it can be slower,\n",
        "while in dict it checks keys not value which is much faster"
      ],
      "metadata": {
        "id": "yLXgqV1eh6VB"
      }
    },
    {
      "cell_type": "markdown",
      "source": [
        "15.Can you modify the elements of a tuple? Explain why or why not\n",
        "\n",
        "->no, we can not modify the element in tuple bez tuple are immutable You can’t add, remove, or change it\n"
      ],
      "metadata": {
        "id": "Y10dqNGqh6So"
      }
    },
    {
      "cell_type": "markdown",
      "source": [
        "16.What is a nested dictionary, and give an example of its use\n",
        "\n",
        "-> the dict inside the dict called nested dict,ex a={\"name\":{\"rohit\" : 21},profession:{\"teacher\" : online }}"
      ],
      "metadata": {
        "id": "pkHdW51sh6OO"
      }
    },
    {
      "cell_type": "markdown",
      "source": [
        "17.Describe the time complexity of accessing elements in a dictionary\n",
        "\n",
        "->0(1),which is extremely fast,does not matter how big is dictionary"
      ],
      "metadata": {
        "id": "Qza5vfLGh6Ix"
      }
    },
    {
      "cell_type": "markdown",
      "source": [
        "18.In what situations are lists preferred over dictionaries\n",
        "\n",
        "->list maintain the order of element,we can access element by the index which is fixed throughout the program lists are great when you just need a collection\n",
        "in lists support functions like .append(), .insert(), and .sort().\n"
      ],
      "metadata": {
        "id": "FR-_w4QZioue"
      }
    },
    {
      "cell_type": "markdown",
      "source": [
        "19. Why are dictionaries considered unordered, and how does that affect data retrieval\n",
        "\n",
        "->dict does not stores the data the way which which it enter,means we enter data in specific sequence it might retrive it in different order,bez of this we can quickly retrive value if we know key we can't rely on index"
      ],
      "metadata": {
        "id": "7pKtbtdAioQL"
      }
    },
    {
      "cell_type": "markdown",
      "source": [
        "20.Explain the difference between a list and a dictionary in terms of data retrieval.\n",
        "\n",
        "->list\n",
        "in list we access elements on the base on index,it goes goes for linear seach,which is slower\n",
        "\n",
        "->dict\n",
        "in dict if we know the keys we can directly access element not on their postion,which faster than list\n",
        "\n"
      ],
      "metadata": {
        "id": "JNh0BeGOioNZ"
      }
    },
    {
      "cell_type": "code",
      "source": [
        "#Write a code to create a string with your name and print it\n",
        "s=\"harshada\"\n",
        "print(\"my name is\",s)"
      ],
      "metadata": {
        "id": "HIiKmHvRi8vF"
      },
      "execution_count": null,
      "outputs": []
    },
    {
      "cell_type": "code",
      "source": [
        "#Write a code to find the length of the string \"Hello World\"\n",
        "s=\"hello world\"\n",
        "print(len(s))"
      ],
      "metadata": {
        "id": "ZvKvPH1Di8tD"
      },
      "execution_count": null,
      "outputs": []
    },
    {
      "cell_type": "code",
      "source": [
        "#Write a code to slice the first 3 characters from the string \"Python Programming\"\n",
        "s=\"Python Programming\"\n",
        "print(s[0:3])\n"
      ],
      "metadata": {
        "id": "9cOxqa8wi8rA"
      },
      "execution_count": null,
      "outputs": []
    },
    {
      "cell_type": "code",
      "source": [
        "#Write a code to convert the string \"hello\" to uppercase\n",
        "s=\"hello\"\n",
        "print(s.upper())"
      ],
      "metadata": {
        "id": "I1LOzmVgi8nt"
      },
      "execution_count": null,
      "outputs": []
    },
    {
      "cell_type": "code",
      "source": [
        "#Write a code to replace the word \"apple\" with \"orange\" in the string \"I like apple\"\n",
        "s=\"I like apple\"\n",
        "print(s.replace(\"apple\",\"orange\"))\n",
        "s #indicate the original string is still same\n"
      ],
      "metadata": {
        "id": "IpJhXGHxi8im"
      },
      "execution_count": null,
      "outputs": []
    },
    {
      "cell_type": "code",
      "source": [
        "# Write a code to create a list with numbers 1 to 5 and print it\n",
        "l=[1,2,3,4,5]\n",
        "print(l)\n"
      ],
      "metadata": {
        "id": "LX4gV8oQi8ew"
      },
      "execution_count": null,
      "outputs": []
    },
    {
      "cell_type": "code",
      "source": [
        "#Write a code to append the number 10 to the list [1, 2, 3, 4]\n",
        "l=[1,2,3,4]\n",
        "l.append(10)\n",
        "print(l)"
      ],
      "metadata": {
        "id": "H5rIWMw5i8ax"
      },
      "execution_count": null,
      "outputs": []
    },
    {
      "cell_type": "code",
      "source": [
        "#Write a code to remove the number 3 from the list [1, 2, 3, 4, 5]\n",
        "l=[1,2,3,4,5]\n",
        "l.remove(3)\n",
        "print(l)"
      ],
      "metadata": {
        "id": "8OmJVETui8Xo"
      },
      "execution_count": null,
      "outputs": []
    },
    {
      "cell_type": "code",
      "source": [
        "#9 Write a code to access the second element in the list ['a', 'b', 'c', 'd']\n",
        "l=['a','b','c','d']\n",
        "print(l[1])"
      ],
      "metadata": {
        "id": "L3Azpqpht6ft"
      },
      "execution_count": null,
      "outputs": []
    },
    {
      "cell_type": "code",
      "source": [
        "#Write a code to reverse the list [10, 20, 30, 40, 50].\n",
        "l=[10,20,30,40,50]\n",
        "l.reverse()\n",
        "print(l)\n"
      ],
      "metadata": {
        "id": "Jw0c1GTtt6c-"
      },
      "execution_count": null,
      "outputs": []
    },
    {
      "cell_type": "code",
      "source": [
        "#11. Write a code to create a tuple with the elements 100, 200, 300 and print it\n",
        "t=(100,200,300)\n",
        "print(t)"
      ],
      "metadata": {
        "id": "rbjLC7k-t6aB"
      },
      "execution_count": null,
      "outputs": []
    },
    {
      "cell_type": "code",
      "source": [
        "#Write a code to access the second-to-last element of the tuple ('red', 'green', 'blue', 'yellow').\n",
        "t=('red', 'green', 'blue', 'yellow')\n",
        "print(t[-2])"
      ],
      "metadata": {
        "id": "wb13wnMet6Xm"
      },
      "execution_count": null,
      "outputs": []
    },
    {
      "cell_type": "code",
      "source": [
        "#13. Write a code to find the minimum number in the .tuple (10, 20, 5, 15)\n",
        "t= (10, 20, 5, 15)\n",
        "print(min(t))"
      ],
      "metadata": {
        "id": "-IBUEoNwt6VL"
      },
      "execution_count": null,
      "outputs": []
    },
    {
      "cell_type": "code",
      "source": [
        "#14. Write a code to find the index of the element \"cat\" in the tuple ('dog', 'cat', 'rabbit')\n",
        "t=('dog', 'cat', 'rabbit')\n",
        "print(t.index(\"cat\"))"
      ],
      "metadata": {
        "id": "KM12hWPKt6Si"
      },
      "execution_count": null,
      "outputs": []
    },
    {
      "cell_type": "code",
      "source": [
        "#15. Write a code to create a tuple containing three different fruits and check if \"kiwi\" is in it\n",
        "t=(\"apple\",\"banana\",\"kiwi\")\n",
        "print(\"kiwi\" in t)\n",
        "\n",
        "\n",
        ""
      ],
      "metadata": {
        "id": "Mu8Tj5AZt6Px"
      },
      "execution_count": null,
      "outputs": []
    },
    {
      "cell_type": "code",
      "source": [
        "#6. Write a code to create a set with the elements 'a', 'b', 'c' and print it.\n",
        "s={'a','b','c'}\n",
        "print(s)"
      ],
      "metadata": {
        "id": "r1nR0p1ot6Kh"
      },
      "execution_count": null,
      "outputs": []
    },
    {
      "cell_type": "code",
      "source": [
        "#17. Write a code to clear all elements from the set {1, 2, 3, 4, 5}\n",
        "s={1,2,3,4,5}\n",
        "print(s)\n",
        "s.clear()\n",
        "print(s)"
      ],
      "metadata": {
        "id": "XsyArkFpt6GV"
      },
      "execution_count": null,
      "outputs": []
    },
    {
      "cell_type": "code",
      "source": [
        "# Write a code to remove the element 4 from the set {1, 2, 3, 4}.\n",
        "s={1,2,3,4}\n",
        "s.remove(4)\n",
        "print(s)"
      ],
      "metadata": {
        "id": "J9zNxbQVt6C7"
      },
      "execution_count": null,
      "outputs": []
    },
    {
      "cell_type": "code",
      "source": [
        "# Write a code to find the union of two sets {1, 2, 3} and {3, 4, 5}\n",
        "a={1,2,3}\n",
        "b={3,4,5}\n",
        "print(a.union(b))\n"
      ],
      "metadata": {
        "id": "eXeMYSz7t5_i"
      },
      "execution_count": null,
      "outputs": []
    },
    {
      "cell_type": "code",
      "source": [
        "#Write a code to find the intersection of two sets {1, 2, 3} and {2, 3, 4}\n",
        "a={1,2,3}\n",
        "b={2,3,4}\n",
        "print(a.intersection(b))"
      ],
      "metadata": {
        "id": "GKHDJmsJt57I"
      },
      "execution_count": null,
      "outputs": []
    },
    {
      "cell_type": "code",
      "source": [
        "#Write a code to create a dictionary with the keys \"name\", \"age\", and \"city\", and print it.\n",
        "d={\"name\":\"harshada\",\"age\":20,\"city\":\"nashik\"}\n",
        "print(d)"
      ],
      "metadata": {
        "id": "mtrR-MT0t5zt"
      },
      "execution_count": null,
      "outputs": []
    },
    {
      "cell_type": "code",
      "source": [
        "#Write a code to add a new key-value pair \"country\": \"USA\" to the dictionary {'name': 'John', 'age': 25}.\n",
        "d={'name': 'John', 'age': 25}\n",
        "d[\"country\"]=\"USA\"\n",
        "print(d)"
      ],
      "metadata": {
        "id": "OVUkXYXTxyXV"
      },
      "execution_count": null,
      "outputs": []
    },
    {
      "cell_type": "code",
      "source": [
        "#Write a code to access the value associated with the key \"name\" in the dictionary {'name': 'Alice', 'age': 30}\n",
        "d={'name': 'Alice', 'age': 30}\n",
        "print(d[\"name\"])"
      ],
      "metadata": {
        "id": "CzPMYbt4xyUa"
      },
      "execution_count": null,
      "outputs": []
    },
    {
      "cell_type": "code",
      "source": [
        "# Write a code to remove the key \"age\" from the dictionary {'name': 'Bob', 'age': 22, 'city': 'New York'}\n",
        "d= {'name': 'Bob', 'age': 22, 'city': 'New York'}\n",
        "d.pop(\"age\")\n",
        "print(d)"
      ],
      "metadata": {
        "id": "k931Vq4-xyRr"
      },
      "execution_count": null,
      "outputs": []
    },
    {
      "cell_type": "code",
      "source": [
        "#Write a code to check if the key \"city\" exists in the dictionary {'name': 'Alice', 'city': 'Paris'}\n",
        "d= {'name': 'Alice', 'city': 'Paris'}\n",
        "print(\"city\" in d)"
      ],
      "metadata": {
        "id": "MAR8QXMDxyOr"
      },
      "execution_count": null,
      "outputs": []
    },
    {
      "cell_type": "code",
      "source": [
        "#Write a code to create a list, a tuple, and a dictionary, and print them all.\n",
        "l=[\"harshad\",1,2.3]\n",
        "print(l)\n",
        "t=(\"wagh\",3,5.6)\n",
        "print(t)\n",
        "d={\"name\": \"mohini\",\"age\":23}\n",
        "print(d)"
      ],
      "metadata": {
        "id": "87kkLSJBxyME"
      },
      "execution_count": null,
      "outputs": []
    },
    {
      "cell_type": "code",
      "source": [
        "#Write a code to create a list of 5 random numbers between 1 and 100, sort it in ascending order, and print the\n",
        "l=[1,4,56,78,90]\n",
        "l.sort()\n",
        "print(l)"
      ],
      "metadata": {
        "id": "nfK9bWerxyJJ"
      },
      "execution_count": null,
      "outputs": []
    },
    {
      "cell_type": "code",
      "source": [
        "# Write a code to create a list with strings and print the element at the third index.\n",
        "l=[\"harshada\",\"sahil\",\"manish\"]\n",
        "print(l[2])"
      ],
      "metadata": {
        "id": "y_-H16U-xyGa"
      },
      "execution_count": null,
      "outputs": []
    },
    {
      "cell_type": "code",
      "source": [
        "# Write a code to combine two dictionaries into one and print the result.\n",
        "d1={\"name\":\"harsha\",\"age\":20}\n",
        "d2={\"name\":\"sahil\",\"age\":21}\n",
        "d1.update(d2)\n",
        "print(d1)\n"
      ],
      "metadata": {
        "id": "ouaxEvAKxyDC"
      },
      "execution_count": null,
      "outputs": []
    },
    {
      "cell_type": "code",
      "source": [
        "#. Write a code to convert a list of strings into a set.\n",
        "l=[\"harshda\",\"sahil\",\"mohit\"]\n",
        "s=set(l)\n",
        "print(s)"
      ],
      "metadata": {
        "id": "xxuOtXuLxx7M"
      },
      "execution_count": null,
      "outputs": []
    }
  ]
}